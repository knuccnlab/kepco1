{
 "cells": [
  {
   "cell_type": "markdown",
   "metadata": {
    "deletable": true,
    "editable": true
   },
   "source": [
    "# Git Bash를 이용한 Github 사용법"
   ]
  },
  {
   "cell_type": "markdown",
   "metadata": {
    "deletable": true,
    "editable": true
   },
   "source": [
    "#### GitHub를 이용하기 전의 회원가입 및 Git 설치과정"
   ]
  },
  {
   "cell_type": "markdown",
   "metadata": {
    "collapsed": true,
    "deletable": true,
    "editable": true
   },
   "source": [
    "* git hub 회원가입\n",
    "![title](./03.png)"
   ]
  },
  {
   "cell_type": "markdown",
   "metadata": {
    "deletable": true,
    "editable": true
   },
   "source": [
    "* 그룹단위의 계정 생성\n",
    "![title](./04.png)"
   ]
  },
  {
   "cell_type": "markdown",
   "metadata": {
    "deletable": true,
    "editable": true
   },
   "source": [
    "![title](./05.png)"
   ]
  },
  {
   "cell_type": "markdown",
   "metadata": {
    "deletable": true,
    "editable": true
   },
   "source": [
    "* 그룹에 유저 초대하기\n",
    "![title](./06.png)"
   ]
  },
  {
   "cell_type": "markdown",
   "metadata": {
    "collapsed": true,
    "deletable": true,
    "editable": true
   },
   "source": [
    "* 계정이 생성 된 모습\n",
    "![title](./07.png)"
   ]
  },
  {
   "cell_type": "markdown",
   "metadata": {
    "deletable": true,
    "editable": true
   },
   "source": [
    "* 파일을 업로드하기 위한 새 저장소 생성\n",
    "![title](./08.png)"
   ]
  },
  {
   "cell_type": "markdown",
   "metadata": {
    "deletable": true,
    "editable": true
   },
   "source": [
    "* 저장소가 생성된 최종 화면\n",
    "![title](./09.png)"
   ]
  },
  {
   "cell_type": "markdown",
   "metadata": {
    "deletable": true,
    "editable": true
   },
   "source": [
    "#### 단체 계정 사용 시 주의사항 - 개인의 아이디를 단체의 Owner가 초대해야하며 아래의 회원 권한 설정에서 push, pull 등을 모두 가능하도록 설정하여야 그룹원들이 저장소의 파일을 다룰 수 있음(업로드).\n",
    "![title](./17.png)"
   ]
  },
  {
   "cell_type": "markdown",
   "metadata": {
    "deletable": true,
    "editable": true
   },
   "source": [
    "### 실습에서는 하단의 가이드 중 예제 파일을 다운로드 받기 위한 clone(복제) 기능만 사용 예정"
   ]
  },
  {
   "cell_type": "markdown",
   "metadata": {
    "deletable": true,
    "editable": true
   },
   "source": [
    "#### Git 설치\n",
    "https://git-scm.com/ \n",
    "* 상단의 git 홈페이지에서 자신의 운영체제에 맞는 버전의 git을 설치한다.\n",
    "* 바탕화면에 우클릭을 하면 아래 그림처럼 나오고 Git Bash Here를 클릭한다.\n",
    "![title](./01.png)\n",
    "![title](./02.png)\n",
    "* 위와 같은 배쉬 창이 뜨며, 컴퓨터와 GitHub를 연동할 수 있는 준비가 된다."
   ]
  },
  {
   "cell_type": "markdown",
   "metadata": {
    "deletable": true,
    "editable": true
   },
   "source": [
    "#### Git Bash를 이용해 파일을 업로드 및 다운로드 하기"
   ]
  },
  {
   "cell_type": "markdown",
   "metadata": {
    "deletable": true,
    "editable": true
   },
   "source": [
    "* 주의해야할 점 = github와 연동할 폴더 경로를 확인해야한다.\n",
    "![title](./10.png)"
   ]
  },
  {
   "cell_type": "markdown",
   "metadata": {
    "deletable": true,
    "editable": true
   },
   "source": [
    "##### 1. GitBash에 유저 정보를 입력(GitHub 아이디, 이메일로 로그인)\n",
    "* !!!!!!!주의!!!!!!! 업로드를 위해 자신의 git 아이디로 로그인 해야함\n",
    "* git config -- global user.name(email) \"...\" 명령어 이용\n",
    "![title](./11.png)"
   ]
  },
  {
   "cell_type": "markdown",
   "metadata": {
    "deletable": true,
    "editable": true
   },
   "source": [
    "##### 2. 폴더 연동시키기\n",
    "* git init 명령어 이용\n",
    "![title](./12.png)\n",
    "![title](./13.png)\n",
    "* .git 폴더가 만들어지면서 저장소로 쓰일 폴더가 초기화된 모습.\n",
    "![title](./txt1.png)\n",
    "* 간단한 텍스트파일 생성"
   ]
  },
  {
   "cell_type": "markdown",
   "metadata": {
    "deletable": true,
    "editable": true
   },
   "source": [
    "##### 3.폴더의 내용을 저장소에 올리기\n",
    "* git add . 명령어로 해당 폴더의 모든 파일을 git에 올림\n",
    "* git commit -m \"...\"로 해당 파일들의 변경사항을 알리는 메시지를 입력 가능\n",
    "* git remote add origin https://github.com/(id)/(repository).git으로 업로드할 repository를 지정 ( 처음 한 번만 지정하면 되며 바꾸고 싶은 경우에만 새로 주소 지정)\n",
    "* git push -u origin master로 push하여 github 저장소에 업로드 (이 과정 후에는 git push명령어로 업로드 가능)\n",
    "![title](./14.png)\n",
    "![title](./15.png)"
   ]
  },
  {
   "cell_type": "markdown",
   "metadata": {
    "deletable": true,
    "editable": true
   },
   "source": [
    "* GitHub에 업로드 된 모습\n",
    "![title](./16.png)\n",
    "![title](./21.png)"
   ]
  },
  {
   "cell_type": "markdown",
   "metadata": {
    "deletable": true,
    "editable": true
   },
   "source": [
    "#### GitHub의 파일을 다운받기, 재업로드하기"
   ]
  },
  {
   "cell_type": "markdown",
   "metadata": {
    "deletable": true,
    "editable": true
   },
   "source": [
    "##### 1.GitHub의 파일 내려받기\n",
    "* git clone 주소 명령어를 이용해 저장소를 \"clone(복제)\"한다.\n",
    "![title](./18.png)\n",
    "* GitTest 폴더에 저장소 이름인 Test 폴더가 생성되며, .git폴더와 함께 파일들이 복제됨\n",
    "![title](./19.png)\n",
    "* test1.txt 파일을 다음과 같이 수정.\n",
    "![title](./txt2.png)"
   ]
  },
  {
   "cell_type": "markdown",
   "metadata": {
    "collapsed": true,
    "deletable": true,
    "editable": true
   },
   "source": [
    "##### 2. GitHub에 수정한 파일 재업로드하기"
   ]
  },
  {
   "cell_type": "markdown",
   "metadata": {
    "deletable": true,
    "editable": true
   },
   "source": [
    "* push 명령어로 수정한 파일 업로드\n",
    "![title](./22.png)\n",
    "* 파일이 변경된 모습\n",
    "![title](./23.png)\n",
    "![title](./24.png)"
   ]
  },
  {
   "cell_type": "code",
   "execution_count": null,
   "metadata": {
    "collapsed": true,
    "deletable": true,
    "editable": true
   },
   "outputs": [],
   "source": []
  }
 ],
 "metadata": {
  "kernelspec": {
   "display_name": "Python 3",
   "language": "python",
   "name": "python3"
  },
  "language_info": {
   "codemirror_mode": {
    "name": "ipython",
    "version": 3
   },
   "file_extension": ".py",
   "mimetype": "text/x-python",
   "name": "python",
   "nbconvert_exporter": "python",
   "pygments_lexer": "ipython3",
   "version": "3.6.0"
  }
 },
 "nbformat": 4,
 "nbformat_minor": 2
}
